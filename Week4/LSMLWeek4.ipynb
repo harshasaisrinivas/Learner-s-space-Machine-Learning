{
 "cells": [
  {
   "cell_type": "code",
   "execution_count": 79,
   "metadata": {
    "_cell_guid": "b1076dfc-b9ad-4769-8c92-a6c4dae69d19",
    "_uuid": "8f2839f25d086af736a60e9eeb907d3b93b6e0e5"
   },
   "outputs": [],
   "source": [
    "import os\n",
    "import torch\n",
    "import torch.nn as nn\n",
    "import torch.optim as optim\n",
    "import torch.nn.functional as F\n",
    "from torch.autograd import Variable\n",
    "import torchvision\n",
    "from torch.utils.data import DataLoader, Dataset\n",
    "from torchvision import transforms, models\n",
    "from glob import glob\n",
    "from tqdm import tqdm\n",
    "import cv2\n",
    "import numpy as np\n",
    "import pandas as pd\n",
    "from PIL import Image\n",
    "from sklearn.metrics import confusion_matrix\n",
    "from sklearn.model_selection import train_test_split\n",
    "from sklearn.metrics import classification_report"
   ]
  },
  {
   "cell_type": "code",
   "execution_count": 3,
   "metadata": {},
   "outputs": [],
   "source": [
    "base_dir = os.path('dataverse_files' )\n",
    "all_image_path = glob(os.path.join(base_dir, '*', '*.jpg'))\n",
    "imageid_path_dict = {os.path.splitext(os.path.basename(x))[0]: x for x in all_image_path}\n",
    "lesion_type_dict = {\n",
    "    'nv': 'Melanocytic nevi',\n",
    "    'mel': 'dermatofibroma',\n",
    "    'bkl': 'Benign keratosis-like lesions ',\n",
    "    'bcc': 'Basal cell carcinoma',\n",
    "    'akiec': 'Actinic keratoses',\n",
    "    'vasc': 'Vascular lesions',\n",
    "    'df': 'Dermatofibroma'\n",
    "}"
   ]
  },
  {
   "cell_type": "code",
   "execution_count": 5,
   "metadata": {},
   "outputs": [
    {
     "data": {
      "text/plain": [
       "(450, 600, 3)"
      ]
     },
     "execution_count": 5,
     "metadata": {},
     "output_type": "execute_result"
    }
   ],
   "source": [
    "arr = np.asarray(Image.open(all_image_path[48]))\n",
    "arr.shape"
   ]
  },
  {
   "cell_type": "code",
   "execution_count": 6,
   "metadata": {},
   "outputs": [
    {
     "data": {
      "text/html": [
       "<div>\n",
       "<style scoped>\n",
       "    .dataframe tbody tr th:only-of-type {\n",
       "        vertical-align: middle;\n",
       "    }\n",
       "\n",
       "    .dataframe tbody tr th {\n",
       "        vertical-align: top;\n",
       "    }\n",
       "\n",
       "    .dataframe thead th {\n",
       "        text-align: right;\n",
       "    }\n",
       "</style>\n",
       "<table border=\"1\" class=\"dataframe\">\n",
       "  <thead>\n",
       "    <tr style=\"text-align: right;\">\n",
       "      <th></th>\n",
       "      <th>lesion_id</th>\n",
       "      <th>image_id</th>\n",
       "      <th>dx</th>\n",
       "      <th>dx_type</th>\n",
       "      <th>age</th>\n",
       "      <th>sex</th>\n",
       "      <th>localization</th>\n",
       "      <th>path</th>\n",
       "      <th>cell_type</th>\n",
       "      <th>cell_type_idx</th>\n",
       "    </tr>\n",
       "  </thead>\n",
       "  <tbody>\n",
       "    <tr>\n",
       "      <td>0</td>\n",
       "      <td>HAM_0000118</td>\n",
       "      <td>ISIC_0027419</td>\n",
       "      <td>bkl</td>\n",
       "      <td>histo</td>\n",
       "      <td>80.0</td>\n",
       "      <td>male</td>\n",
       "      <td>scalp</td>\n",
       "      <td>../input/skin-cancer-mnist-ham10000/ham10000_i...</td>\n",
       "      <td>Benign keratosis-like lesions</td>\n",
       "      <td>2</td>\n",
       "    </tr>\n",
       "    <tr>\n",
       "      <td>1</td>\n",
       "      <td>HAM_0000118</td>\n",
       "      <td>ISIC_0025030</td>\n",
       "      <td>bkl</td>\n",
       "      <td>histo</td>\n",
       "      <td>80.0</td>\n",
       "      <td>male</td>\n",
       "      <td>scalp</td>\n",
       "      <td>../input/skin-cancer-mnist-ham10000/ham10000_i...</td>\n",
       "      <td>Benign keratosis-like lesions</td>\n",
       "      <td>2</td>\n",
       "    </tr>\n",
       "    <tr>\n",
       "      <td>2</td>\n",
       "      <td>HAM_0002730</td>\n",
       "      <td>ISIC_0026769</td>\n",
       "      <td>bkl</td>\n",
       "      <td>histo</td>\n",
       "      <td>80.0</td>\n",
       "      <td>male</td>\n",
       "      <td>scalp</td>\n",
       "      <td>../input/skin-cancer-mnist-ham10000/ham10000_i...</td>\n",
       "      <td>Benign keratosis-like lesions</td>\n",
       "      <td>2</td>\n",
       "    </tr>\n",
       "    <tr>\n",
       "      <td>3</td>\n",
       "      <td>HAM_0002730</td>\n",
       "      <td>ISIC_0025661</td>\n",
       "      <td>bkl</td>\n",
       "      <td>histo</td>\n",
       "      <td>80.0</td>\n",
       "      <td>male</td>\n",
       "      <td>scalp</td>\n",
       "      <td>../input/skin-cancer-mnist-ham10000/ham10000_i...</td>\n",
       "      <td>Benign keratosis-like lesions</td>\n",
       "      <td>2</td>\n",
       "    </tr>\n",
       "    <tr>\n",
       "      <td>4</td>\n",
       "      <td>HAM_0001466</td>\n",
       "      <td>ISIC_0031633</td>\n",
       "      <td>bkl</td>\n",
       "      <td>histo</td>\n",
       "      <td>75.0</td>\n",
       "      <td>male</td>\n",
       "      <td>ear</td>\n",
       "      <td>../input/skin-cancer-mnist-ham10000/ham10000_i...</td>\n",
       "      <td>Benign keratosis-like lesions</td>\n",
       "      <td>2</td>\n",
       "    </tr>\n",
       "  </tbody>\n",
       "</table>\n",
       "</div>"
      ],
      "text/plain": [
       "     lesion_id      image_id   dx dx_type   age   sex localization  \\\n",
       "0  HAM_0000118  ISIC_0027419  bkl   histo  80.0  male        scalp   \n",
       "1  HAM_0000118  ISIC_0025030  bkl   histo  80.0  male        scalp   \n",
       "2  HAM_0002730  ISIC_0026769  bkl   histo  80.0  male        scalp   \n",
       "3  HAM_0002730  ISIC_0025661  bkl   histo  80.0  male        scalp   \n",
       "4  HAM_0001466  ISIC_0031633  bkl   histo  75.0  male          ear   \n",
       "\n",
       "                                                path  \\\n",
       "0  ../input/skin-cancer-mnist-ham10000/ham10000_i...   \n",
       "1  ../input/skin-cancer-mnist-ham10000/ham10000_i...   \n",
       "2  ../input/skin-cancer-mnist-ham10000/ham10000_i...   \n",
       "3  ../input/skin-cancer-mnist-ham10000/ham10000_i...   \n",
       "4  ../input/skin-cancer-mnist-ham10000/ham10000_i...   \n",
       "\n",
       "                        cell_type  cell_type_idx  \n",
       "0  Benign keratosis-like lesions               2  \n",
       "1  Benign keratosis-like lesions               2  \n",
       "2  Benign keratosis-like lesions               2  \n",
       "3  Benign keratosis-like lesions               2  \n",
       "4  Benign keratosis-like lesions               2  "
      ]
     },
     "execution_count": 6,
     "metadata": {},
     "output_type": "execute_result"
    }
   ],
   "source": [
    "df_original = pd.read_csv(os.path.join(base_dir, 'HAM10000_metadata.csv'))\n",
    "df_original['path'] = df_original['image_id'].map(imageid_path_dict.get)\n",
    "df_original['cell_type'] = df_original['dx'].map(lesion_type_dict.get)\n",
    "df_original['cell_type_idx'] = pd.Categorical(df_original['cell_type']).codes\n",
    "df_original.head()"
   ]
  },
  {
   "cell_type": "code",
   "execution_count": 7,
   "metadata": {},
   "outputs": [
    {
     "data": {
      "text/html": [
       "<div>\n",
       "<style scoped>\n",
       "    .dataframe tbody tr th:only-of-type {\n",
       "        vertical-align: middle;\n",
       "    }\n",
       "\n",
       "    .dataframe tbody tr th {\n",
       "        vertical-align: top;\n",
       "    }\n",
       "\n",
       "    .dataframe thead th {\n",
       "        text-align: right;\n",
       "    }\n",
       "</style>\n",
       "<table border=\"1\" class=\"dataframe\">\n",
       "  <thead>\n",
       "    <tr style=\"text-align: right;\">\n",
       "      <th></th>\n",
       "      <th>cell_type_idx</th>\n",
       "      <th>cell_type</th>\n",
       "    </tr>\n",
       "  </thead>\n",
       "  <tbody>\n",
       "    <tr>\n",
       "      <td>9804</td>\n",
       "      <td>0</td>\n",
       "      <td>Actinic keratoses</td>\n",
       "    </tr>\n",
       "    <tr>\n",
       "      <td>2528</td>\n",
       "      <td>1</td>\n",
       "      <td>Basal cell carcinoma</td>\n",
       "    </tr>\n",
       "    <tr>\n",
       "      <td>1018</td>\n",
       "      <td>2</td>\n",
       "      <td>Benign keratosis-like lesions</td>\n",
       "    </tr>\n",
       "    <tr>\n",
       "      <td>1159</td>\n",
       "      <td>3</td>\n",
       "      <td>Dermatofibroma</td>\n",
       "    </tr>\n",
       "    <tr>\n",
       "      <td>7050</td>\n",
       "      <td>4</td>\n",
       "      <td>Melanocytic nevi</td>\n",
       "    </tr>\n",
       "    <tr>\n",
       "      <td>2370</td>\n",
       "      <td>5</td>\n",
       "      <td>Vascular lesions</td>\n",
       "    </tr>\n",
       "    <tr>\n",
       "      <td>1577</td>\n",
       "      <td>6</td>\n",
       "      <td>dermatofibroma</td>\n",
       "    </tr>\n",
       "  </tbody>\n",
       "</table>\n",
       "</div>"
      ],
      "text/plain": [
       "      cell_type_idx                       cell_type\n",
       "9804              0               Actinic keratoses\n",
       "2528              1            Basal cell carcinoma\n",
       "1018              2  Benign keratosis-like lesions \n",
       "1159              3                  Dermatofibroma\n",
       "7050              4                Melanocytic nevi\n",
       "2370              5                Vascular lesions\n",
       "1577              6                  dermatofibroma"
      ]
     },
     "execution_count": 7,
     "metadata": {},
     "output_type": "execute_result"
    }
   ],
   "source": [
    "df_original[['cell_type_idx', 'cell_type']].sort_values('cell_type_idx').drop_duplicates()"
   ]
  },
  {
   "cell_type": "code",
   "execution_count": 8,
   "metadata": {},
   "outputs": [
    {
     "data": {
      "text/plain": [
       "Melanocytic nevi                  6705\n",
       "dermatofibroma                    1113\n",
       "Benign keratosis-like lesions     1099\n",
       "Basal cell carcinoma               514\n",
       "Actinic keratoses                  327\n",
       "Vascular lesions                   142\n",
       "Dermatofibroma                     115\n",
       "Name: cell_type, dtype: int64"
      ]
     },
     "execution_count": 8,
     "metadata": {},
     "output_type": "execute_result"
    }
   ],
   "source": [
    "df_original['cell_type'].value_counts()"
   ]
  },
  {
   "cell_type": "code",
   "execution_count": 9,
   "metadata": {},
   "outputs": [],
   "source": [
    "def compute_img_mean_std(image_paths):\n",
    "    img_h, img_w = 224, 224\n",
    "    imgs = []\n",
    "    means, stdevs = [], []\n",
    "\n",
    "    for i in tqdm(range(len(image_paths))):\n",
    "        img = cv2.imread(image_paths[i])\n",
    "        img = cv2.resize(img, (img_h, img_w))\n",
    "        imgs.append(img)\n",
    "\n",
    "    imgs = np.stack(imgs, axis=3)\n",
    "    print(imgs.shape)\n",
    "\n",
    "    imgs = imgs.astype(np.float32) / 255.\n",
    "\n",
    "    for i in range(3):\n",
    "        pixels = imgs[:, :, i, :].ravel()\n",
    "        means.append(np.mean(pixels))\n",
    "        stdevs.append(np.std(pixels))\n",
    "\n",
    "    means.reverse()\n",
    "    stdevs.reverse()\n",
    "\n",
    "    print(\"normMean = {}\".format(means))\n",
    "    print(\"normStd = {}\".format(stdevs))\n",
    "    return means,stdevs"
   ]
  },
  {
   "cell_type": "code",
   "execution_count": 11,
   "metadata": {},
   "outputs": [],
   "source": [
    "normMean, normStd = compute_img_mean_std(all_image_path)"
   ]
  },
  {
   "cell_type": "code",
   "execution_count": null,
   "metadata": {},
   "outputs": [],
   "source": [
    "df_undup = df_original.groupby('lesion_id').count()\n",
    "df_undup = df_undup[df_undup['image_id'] == 1]\n",
    "df_undup.reset_index(inplace=True)"
   ]
  },
  {
   "cell_type": "code",
   "execution_count": null,
   "metadata": {},
   "outputs": [],
   "source": [
    "def get_duplicates(x):\n",
    "    unique_list = list(df_undup['lesion_id'])\n",
    "    if x in unique_list:\n",
    "        return 'unduplicated'\n",
    "    else:\n",
    "        return 'duplicated'\n",
    "\n",
    "df_original['duplicates'] = df_original['lesion_id']\n",
    "df_original['duplicates'] = df_original['duplicates'].apply(get_duplicates)"
   ]
  },
  {
   "cell_type": "code",
   "execution_count": 15,
   "metadata": {},
   "outputs": [
    {
     "data": {
      "text/plain": [
       "(5514, 11)"
      ]
     },
     "execution_count": 15,
     "metadata": {},
     "output_type": "execute_result"
    }
   ],
   "source": [
    "df_undup = df_original[df_original['duplicates'] == 'unduplicated']\n",
    "df_undup.shape"
   ]
  },
  {
   "cell_type": "code",
   "execution_count": 16,
   "metadata": {},
   "outputs": [
    {
     "data": {
      "text/plain": [
       "(1103, 11)"
      ]
     },
     "execution_count": 16,
     "metadata": {},
     "output_type": "execute_result"
    }
   ],
   "source": [
    "y = df_undup['cell_type_idx']\n",
    "_, df_val = train_test_split(df_undup, test_size=0.2, random_state=101, stratify=y)\n",
    "df_val.shape"
   ]
  },
  {
   "cell_type": "code",
   "execution_count": 17,
   "metadata": {},
   "outputs": [
    {
     "data": {
      "text/plain": [
       "4    883\n",
       "2     88\n",
       "6     46\n",
       "1     35\n",
       "0     30\n",
       "5     13\n",
       "3      8\n",
       "Name: cell_type_idx, dtype: int64"
      ]
     },
     "execution_count": 17,
     "metadata": {},
     "output_type": "execute_result"
    }
   ],
   "source": [
    "df_val['cell_type_idx'].value_counts()"
   ]
  },
  {
   "cell_type": "code",
   "execution_count": 18,
   "metadata": {},
   "outputs": [
    {
     "name": "stdout",
     "output_type": "stream",
     "text": [
      "8912\n",
      "1103\n"
     ]
    }
   ],
   "source": [
    "def get_val_rows(x):\n",
    "    val_list = list(df_val['image_id'])\n",
    "    if str(x) in val_list:\n",
    "        return 'val'\n",
    "    else:\n",
    "        return 'train'\n",
    "\n",
    "df_original['train_or_val'] = df_original['image_id']\n",
    "df_original['train_or_val'] = df_original['train_or_val'].apply(get_val_rows)\n",
    "df_train = df_original[df_original['train_or_val'] == 'train']\n",
    "print(len(df_train))\n",
    "print(len(df_val))"
   ]
  },
  {
   "cell_type": "code",
   "execution_count": 19,
   "metadata": {},
   "outputs": [
    {
     "data": {
      "text/plain": [
       "Melanocytic nevi                  5822\n",
       "dermatofibroma                    1067\n",
       "Benign keratosis-like lesions     1011\n",
       "Basal cell carcinoma               479\n",
       "Actinic keratoses                  297\n",
       "Vascular lesions                   129\n",
       "Dermatofibroma                     107\n",
       "Name: cell_type, dtype: int64"
      ]
     },
     "execution_count": 19,
     "metadata": {},
     "output_type": "execute_result"
    }
   ],
   "source": [
    "df_train['cell_type'].value_counts()"
   ]
  },
  {
   "cell_type": "code",
   "execution_count": 20,
   "metadata": {},
   "outputs": [
    {
     "data": {
      "text/plain": [
       "Melanocytic nevi                  883\n",
       "Benign keratosis-like lesions      88\n",
       "dermatofibroma                     46\n",
       "Basal cell carcinoma               35\n",
       "Actinic keratoses                  30\n",
       "Vascular lesions                   13\n",
       "Dermatofibroma                      8\n",
       "Name: cell_type, dtype: int64"
      ]
     },
     "execution_count": 20,
     "metadata": {},
     "output_type": "execute_result"
    }
   ],
   "source": [
    "df_val['cell_type'].value_counts()"
   ]
  },
  {
   "cell_type": "code",
   "execution_count": 21,
   "metadata": {},
   "outputs": [
    {
     "data": {
      "text/plain": [
       "Melanocytic nevi                  5822\n",
       "Dermatofibroma                    5350\n",
       "dermatofibroma                    5335\n",
       "Vascular lesions                  5160\n",
       "Benign keratosis-like lesions     5055\n",
       "Basal cell carcinoma              4790\n",
       "Actinic keratoses                 4455\n",
       "Name: cell_type, dtype: int64"
      ]
     },
     "execution_count": 21,
     "metadata": {},
     "output_type": "execute_result"
    }
   ],
   "source": [
    "data_aug_rate = [15,10,5,50,0,40,5]\n",
    "for i in range(7):\n",
    "    if data_aug_rate[i]:\n",
    "        df_train=df_train.append([df_train.loc[df_train['cell_type_idx'] == i,:]]*(data_aug_rate[i]-1), ignore_index=True)\n",
    "df_train['cell_type'].value_counts()"
   ]
  },
  {
   "cell_type": "code",
   "execution_count": 22,
   "metadata": {},
   "outputs": [],
   "source": [
    "df_train = df_train.reset_index()\n",
    "df_val = df_val.reset_index()"
   ]
  },
  {
   "cell_type": "code",
   "execution_count": 26,
   "metadata": {},
   "outputs": [],
   "source": [
    "class PretrainedResNext(nn.Module):\n",
    "    def __init__(self, num_class=7):\n",
    "        super().__init__()\n",
    "        resNext = models.resnext101_32x8d(pretrained=True)\n",
    "        self.channels = resNext.fc.out_features\n",
    "        for params in resNext.parameters():\n",
    "            params.requires_grad_(False)\n",
    "        self.features = nn.Sequential(*list(resNext.children()))\n",
    "        self.relu = nn.ReLU(inplace=True)\n",
    "        self.fc1 = nn.Linear(self.channels, num_class)\n",
    "        self.softmax = nn.Softmax()\n",
    "\n",
    "    def forward(self, x):\n",
    "        features = self.features(x)\n",
    "        out = self.relu(features)\n",
    "        out = nn.functional.adaptive_avg_pool2d(out, (1, 1))\n",
    "        out = out.view(-1, self.channels)\n",
    "        out = self.fc1(out)\n",
    "        out = self.SoftMax(out)\n",
    "        return out"
   ]
  },
  {
   "cell_type": "code",
   "execution_count": 59,
   "metadata": {},
   "outputs": [],
   "source": [
    "model = PretrainedResNext()\n",
    "model_ft = models.resnext101_32x8d(pretrained=True)\n",
    "model_ft.fc = nn.Linear(in_features=2048, out_features=7)\n",
    "model_ft\n",
    "model = model_ft"
   ]
  },
  {
   "cell_type": "code",
   "execution_count": 67,
   "metadata": {},
   "outputs": [],
   "source": [
    "input_size = 224\n",
    "train_transform = transforms.Compose([transforms.Resize((input_size,input_size)),\n",
    "                                      transforms.RandomHorizontalFlip(),\n",
    "                                      transforms.RandomVerticalFlip(),\n",
    "                                      transforms.RandomRotation(20),\n",
    "                                      transforms.ColorJitter(brightness=0.1, contrast=0.1, hue=0.1),\n",
    "                                      transforms.ToTensor(),\n",
    "                                      transforms.Normalize(normMean, normStd)])\n",
    "val_transform = transforms.Compose([transforms.Resize((input_size,input_size)),\n",
    "                                    transforms.ToTensor(),\n",
    "                                    transforms.Normalize(normMean, normStd)])"
   ]
  },
  {
   "cell_type": "code",
   "execution_count": 68,
   "metadata": {},
   "outputs": [],
   "source": [
    "class CustomDataset(Dataset):\n",
    "    def __init__(self, df, transform=None):\n",
    "        self.df = df\n",
    "        self.transform = transform\n",
    "\n",
    "    def __len__(self):\n",
    "        return len(self.df)\n",
    "\n",
    "    def __getitem__(self, index):\n",
    "        X = Image.open(self.df['path'][index])\n",
    "        y = torch.tensor(int(self.df['cell_type_idx'][index]))\n",
    "\n",
    "        if self.transform:\n",
    "            X = self.transform(X)\n",
    "        return X, y"
   ]
  },
  {
   "cell_type": "code",
   "execution_count": 69,
   "metadata": {},
   "outputs": [],
   "source": [
    "training_set = CustomDataset(df_train, transform=train_transform)\n",
    "train_loader = DataLoader(training_set, batch_size=32, shuffle=True, num_workers=4)\n",
    "\n",
    "validation_set = CustomDataset(df_val, transform=train_transform)\n",
    "val_loader = DataLoader(validation_set, batch_size=32, shuffle=False, num_workers=4)"
   ]
  },
  {
   "cell_type": "code",
   "execution_count": 70,
   "metadata": {},
   "outputs": [],
   "source": [
    "class AverageMeter(object):\n",
    "    def __init__(self):\n",
    "        self.reset()\n",
    "\n",
    "    def reset(self):\n",
    "        self.val = 0\n",
    "        self.avg = 0\n",
    "        self.sum = 0\n",
    "        self.count = 0\n",
    "\n",
    "    def update(self, val, n=1):\n",
    "        self.val = val\n",
    "        self.sum += val * n\n",
    "        self.count += n\n",
    "        self.avg = self.sum / self.count"
   ]
  },
  {
   "cell_type": "code",
   "execution_count": 71,
   "metadata": {},
   "outputs": [],
   "source": [
    "total_loss_train, total_acc_train = [],[]\n",
    "def train(train_loader, model, criterion, optimizer, epoch):\n",
    "    model.train()\n",
    "    train_loss = AverageMeter()\n",
    "    train_acc = AverageMeter()\n",
    "    curr_iter = (epoch - 1) * len(train_loader)\n",
    "    for i, data in enumerate(train_loader):\n",
    "        images, labels = data\n",
    "        N = images.size(0)\n",
    "        images = Variable(images).to(device)\n",
    "        labels = Variable(labels).to(device)\n",
    "\n",
    "        optimizer.zero_grad()\n",
    "        outputs = model(images)\n",
    "\n",
    "        loss = criterion(outputs, labels)\n",
    "        loss.backward()\n",
    "        optimizer.step()\n",
    "        prediction = outputs.max(1, keepdim=True)[1]\n",
    "        train_acc.update(prediction.eq(labels.view_as(prediction)).sum().item()/N)\n",
    "        train_loss.update(loss.item())\n",
    "        curr_iter += 1\n",
    "        if (i + 1) % 100 == 0:\n",
    "            print('[epoch %d], [iter %d / %d], [train loss %.5f], [train acc %.5f]' % (\n",
    "                epoch, i + 1, len(train_loader), train_loss.avg, train_acc.avg))\n",
    "            total_loss_train.append(train_loss.avg)\n",
    "            total_acc_train.append(train_acc.avg)\n",
    "    return train_loss.avg, train_acc.avg"
   ]
  },
  {
   "cell_type": "code",
   "execution_count": 72,
   "metadata": {},
   "outputs": [],
   "source": [
    "def validate(val_loader, model, criterion, optimizer, epoch):\n",
    "    model.eval()\n",
    "    val_loss = AverageMeter()\n",
    "    val_acc = AverageMeter()\n",
    "    with torch.no_grad():\n",
    "        for i, data in enumerate(val_loader):\n",
    "            images, labels = data\n",
    "            N = images.size(0)\n",
    "            images = Variable(images).to(device)\n",
    "            labels = Variable(labels).to(device)\n",
    "\n",
    "            outputs = model(images)\n",
    "            prediction = outputs.max(1, keepdim=True)[1]\n",
    "\n",
    "            val_acc.update(prediction.eq(labels.view_as(prediction)).sum().item()/N)\n",
    "\n",
    "            val_loss.update(criterion(outputs, labels).item())\n",
    "\n",
    "    print('------------------------------------------------------------')\n",
    "    print('[epoch %d], [val loss %.5f], [val acc %.5f]' % (epoch, val_loss.avg, val_acc.avg))\n",
    "    print('------------------------------------------------------------')\n",
    "    return val_loss.avg, val_acc.avg"
   ]
  },
  {
   "cell_type": "code",
   "execution_count": 73,
   "metadata": {},
   "outputs": [],
   "source": [
    "model.to(device)\n",
    "optimizer = optim.Adam(model.parameters(), lr=1e-3)\n",
    "criterion = nn.CrossEntropyLoss().to(device)"
   ]
  },
  {
   "cell_type": "code",
   "execution_count": 74,
   "metadata": {},
   "outputs": [
    {
     "name": "stderr",
     "output_type": "stream",
     "text": [
      "\r",
      "  0%|          | 0/10 [00:00<?, ?it/s]"
     ]
    },
    {
     "name": "stdout",
     "output_type": "stream",
     "text": [
      "[epoch 1], [iter 100 / 1124], [train loss 1.80869], [train acc 0.28031]\n",
      "[epoch 1], [iter 200 / 1124], [train loss 1.65129], [train acc 0.35000]\n",
      "[epoch 1], [iter 300 / 1124], [train loss 1.56649], [train acc 0.38750]\n",
      "[epoch 1], [iter 400 / 1124], [train loss 1.50890], [train acc 0.41250]\n",
      "[epoch 1], [iter 500 / 1124], [train loss 1.46146], [train acc 0.43419]\n",
      "[epoch 1], [iter 600 / 1124], [train loss 1.41541], [train acc 0.45568]\n",
      "[epoch 1], [iter 700 / 1124], [train loss 1.38229], [train acc 0.46884]\n",
      "[epoch 1], [iter 800 / 1124], [train loss 1.35558], [train acc 0.47969]\n",
      "[epoch 1], [iter 900 / 1124], [train loss 1.33627], [train acc 0.48847]\n",
      "[epoch 1], [iter 1000 / 1124], [train loss 1.30977], [train acc 0.49944]\n",
      "[epoch 1], [iter 1100 / 1124], [train loss 1.28299], [train acc 0.51080]\n"
     ]
    },
    {
     "name": "stderr",
     "output_type": "stream",
     "text": [
      "\r",
      " 10%|█         | 1/10 [16:58<2:32:42, 1018.10s/it]"
     ]
    },
    {
     "name": "stdout",
     "output_type": "stream",
     "text": [
      "------------------------------------------------------------\n",
      "[epoch 1], [val loss 1.22017], [val acc 0.56042]\n",
      "------------------------------------------------------------\n",
      "*****************************************************\n",
      "best record: [epoch 1], [val loss 1.22017], [val acc 0.56042]\n",
      "*****************************************************\n",
      "[epoch 2], [iter 100 / 1124], [train loss 1.00207], [train acc 0.63219]\n",
      "[epoch 2], [iter 200 / 1124], [train loss 0.98475], [train acc 0.63562]\n",
      "[epoch 2], [iter 300 / 1124], [train loss 0.96301], [train acc 0.64135]\n",
      "[epoch 2], [iter 400 / 1124], [train loss 0.95484], [train acc 0.64422]\n",
      "[epoch 2], [iter 500 / 1124], [train loss 0.93646], [train acc 0.64919]\n",
      "[epoch 2], [iter 600 / 1124], [train loss 0.91998], [train acc 0.65589]\n",
      "[epoch 2], [iter 700 / 1124], [train loss 0.90887], [train acc 0.66018]\n",
      "[epoch 2], [iter 800 / 1124], [train loss 0.89506], [train acc 0.66461]\n",
      "[epoch 2], [iter 900 / 1124], [train loss 0.88302], [train acc 0.66837]\n",
      "[epoch 2], [iter 1000 / 1124], [train loss 0.87025], [train acc 0.67228]\n",
      "[epoch 2], [iter 1100 / 1124], [train loss 0.85798], [train acc 0.67628]\n"
     ]
    },
    {
     "name": "stderr",
     "output_type": "stream",
     "text": [
      "\r",
      " 20%|██        | 2/10 [33:56<2:15:46, 1018.31s/it]"
     ]
    },
    {
     "name": "stdout",
     "output_type": "stream",
     "text": [
      "------------------------------------------------------------\n",
      "[epoch 2], [val loss 0.58504], [val acc 0.80077]\n",
      "------------------------------------------------------------\n",
      "*****************************************************\n",
      "best record: [epoch 2], [val loss 0.58504], [val acc 0.80077]\n",
      "*****************************************************\n",
      "[epoch 3], [iter 100 / 1124], [train loss 0.71210], [train acc 0.72375]\n",
      "[epoch 3], [iter 200 / 1124], [train loss 0.71432], [train acc 0.72047]\n",
      "[epoch 3], [iter 300 / 1124], [train loss 0.71204], [train acc 0.72448]\n",
      "[epoch 3], [iter 400 / 1124], [train loss 0.71059], [train acc 0.72758]\n",
      "[epoch 3], [iter 500 / 1124], [train loss 0.70136], [train acc 0.73194]\n",
      "[epoch 3], [iter 600 / 1124], [train loss 0.69426], [train acc 0.73417]\n",
      "[epoch 3], [iter 700 / 1124], [train loss 0.69041], [train acc 0.73612]\n",
      "[epoch 3], [iter 800 / 1124], [train loss 0.68231], [train acc 0.73836]\n",
      "[epoch 3], [iter 900 / 1124], [train loss 0.67616], [train acc 0.74090]\n",
      "[epoch 3], [iter 1000 / 1124], [train loss 0.67320], [train acc 0.74162]\n",
      "[epoch 3], [iter 1100 / 1124], [train loss 0.67159], [train acc 0.74219]\n"
     ]
    },
    {
     "name": "stderr",
     "output_type": "stream",
     "text": [
      "\r",
      " 30%|███       | 3/10 [50:54<1:58:46, 1018.10s/it]"
     ]
    },
    {
     "name": "stdout",
     "output_type": "stream",
     "text": [
      "------------------------------------------------------------\n",
      "[epoch 3], [val loss 0.58131], [val acc 0.78369]\n",
      "------------------------------------------------------------\n",
      "[epoch 4], [iter 100 / 1124], [train loss 0.59879], [train acc 0.77938]\n",
      "[epoch 4], [iter 200 / 1124], [train loss 0.60249], [train acc 0.77516]\n",
      "[epoch 4], [iter 300 / 1124], [train loss 0.60945], [train acc 0.76958]\n",
      "[epoch 4], [iter 400 / 1124], [train loss 0.60117], [train acc 0.77187]\n",
      "[epoch 4], [iter 500 / 1124], [train loss 0.60075], [train acc 0.77294]\n",
      "[epoch 4], [iter 600 / 1124], [train loss 0.59665], [train acc 0.77406]\n",
      "[epoch 4], [iter 700 / 1124], [train loss 0.59360], [train acc 0.77393]\n",
      "[epoch 4], [iter 800 / 1124], [train loss 0.58778], [train acc 0.77570]\n",
      "[epoch 4], [iter 900 / 1124], [train loss 0.58246], [train acc 0.77753]\n",
      "[epoch 4], [iter 1000 / 1124], [train loss 0.58004], [train acc 0.77772]\n",
      "[epoch 4], [iter 1100 / 1124], [train loss 0.57689], [train acc 0.77878]\n"
     ]
    },
    {
     "name": "stderr",
     "output_type": "stream",
     "text": [
      "\r",
      " 40%|████      | 4/10 [1:07:49<1:41:43, 1017.27s/it]"
     ]
    },
    {
     "name": "stdout",
     "output_type": "stream",
     "text": [
      "------------------------------------------------------------\n",
      "[epoch 4], [val loss 0.40174], [val acc 0.85167]\n",
      "------------------------------------------------------------\n",
      "*****************************************************\n",
      "best record: [epoch 4], [val loss 0.40174], [val acc 0.85167]\n",
      "*****************************************************\n",
      "[epoch 5], [iter 100 / 1124], [train loss 0.55246], [train acc 0.78938]\n",
      "[epoch 5], [iter 200 / 1124], [train loss 0.52913], [train acc 0.80063]\n",
      "[epoch 5], [iter 300 / 1124], [train loss 0.53216], [train acc 0.79917]\n",
      "[epoch 5], [iter 400 / 1124], [train loss 0.52865], [train acc 0.79891]\n",
      "[epoch 5], [iter 500 / 1124], [train loss 0.52398], [train acc 0.80169]\n",
      "[epoch 5], [iter 600 / 1124], [train loss 0.51859], [train acc 0.80333]\n",
      "[epoch 5], [iter 700 / 1124], [train loss 0.51927], [train acc 0.80263]\n",
      "[epoch 5], [iter 800 / 1124], [train loss 0.51602], [train acc 0.80367]\n",
      "[epoch 5], [iter 900 / 1124], [train loss 0.51113], [train acc 0.80590]\n",
      "[epoch 5], [iter 1000 / 1124], [train loss 0.50859], [train acc 0.80722]\n",
      "[epoch 5], [iter 1100 / 1124], [train loss 0.50509], [train acc 0.80764]\n"
     ]
    },
    {
     "name": "stderr",
     "output_type": "stream",
     "text": [
      "\r",
      " 50%|█████     | 5/10 [1:24:41<1:24:37, 1015.52s/it]"
     ]
    },
    {
     "name": "stdout",
     "output_type": "stream",
     "text": [
      "------------------------------------------------------------\n",
      "[epoch 5], [val loss 0.57715], [val acc 0.80589]\n",
      "------------------------------------------------------------\n",
      "[epoch 6], [iter 100 / 1124], [train loss 0.45108], [train acc 0.82750]\n",
      "[epoch 6], [iter 200 / 1124], [train loss 0.46029], [train acc 0.82828]\n",
      "[epoch 6], [iter 300 / 1124], [train loss 0.45889], [train acc 0.82667]\n",
      "[epoch 6], [iter 400 / 1124], [train loss 0.45821], [train acc 0.82633]\n",
      "[epoch 6], [iter 500 / 1124], [train loss 0.46197], [train acc 0.82431]\n",
      "[epoch 6], [iter 600 / 1124], [train loss 0.45755], [train acc 0.82568]\n",
      "[epoch 6], [iter 700 / 1124], [train loss 0.45892], [train acc 0.82536]\n",
      "[epoch 6], [iter 800 / 1124], [train loss 0.45834], [train acc 0.82539]\n",
      "[epoch 6], [iter 900 / 1124], [train loss 0.45540], [train acc 0.82649]\n",
      "[epoch 6], [iter 1000 / 1124], [train loss 0.45271], [train acc 0.82750]\n",
      "[epoch 6], [iter 1100 / 1124], [train loss 0.45412], [train acc 0.82730]\n"
     ]
    },
    {
     "name": "stderr",
     "output_type": "stream",
     "text": [
      "\r",
      " 60%|██████    | 6/10 [1:41:33<1:07:37, 1014.44s/it]"
     ]
    },
    {
     "name": "stdout",
     "output_type": "stream",
     "text": [
      "------------------------------------------------------------\n",
      "[epoch 6], [val loss 0.39255], [val acc 0.86226]\n",
      "------------------------------------------------------------\n",
      "*****************************************************\n",
      "best record: [epoch 6], [val loss 0.39255], [val acc 0.86226]\n",
      "*****************************************************\n",
      "[epoch 7], [iter 100 / 1124], [train loss 0.41286], [train acc 0.83750]\n",
      "[epoch 7], [iter 200 / 1124], [train loss 0.41218], [train acc 0.83891]\n",
      "[epoch 7], [iter 300 / 1124], [train loss 0.41540], [train acc 0.84010]\n",
      "[epoch 7], [iter 400 / 1124], [train loss 0.41665], [train acc 0.83969]\n",
      "[epoch 7], [iter 500 / 1124], [train loss 0.41590], [train acc 0.84081]\n",
      "[epoch 7], [iter 600 / 1124], [train loss 0.41282], [train acc 0.84250]\n",
      "[epoch 7], [iter 700 / 1124], [train loss 0.41360], [train acc 0.84219]\n",
      "[epoch 7], [iter 800 / 1124], [train loss 0.41131], [train acc 0.84359]\n",
      "[epoch 7], [iter 900 / 1124], [train loss 0.40793], [train acc 0.84434]\n",
      "[epoch 7], [iter 1000 / 1124], [train loss 0.40771], [train acc 0.84456]\n",
      "[epoch 7], [iter 1100 / 1124], [train loss 0.40632], [train acc 0.84517]\n"
     ]
    },
    {
     "name": "stderr",
     "output_type": "stream",
     "text": [
      "\r",
      " 70%|███████   | 7/10 [1:58:24<50:40, 1013.49s/it]  "
     ]
    },
    {
     "name": "stdout",
     "output_type": "stream",
     "text": [
      "------------------------------------------------------------\n",
      "[epoch 7], [val loss 0.58368], [val acc 0.81482]\n",
      "------------------------------------------------------------\n",
      "[epoch 8], [iter 100 / 1124], [train loss 0.37170], [train acc 0.85594]\n",
      "[epoch 8], [iter 200 / 1124], [train loss 0.36475], [train acc 0.85813]\n",
      "[epoch 8], [iter 300 / 1124], [train loss 0.36713], [train acc 0.85646]\n",
      "[epoch 8], [iter 400 / 1124], [train loss 0.36361], [train acc 0.85867]\n",
      "[epoch 8], [iter 500 / 1124], [train loss 0.36654], [train acc 0.85700]\n",
      "[epoch 8], [iter 600 / 1124], [train loss 0.37377], [train acc 0.85464]\n",
      "[epoch 8], [iter 700 / 1124], [train loss 0.37110], [train acc 0.85616]\n",
      "[epoch 8], [iter 800 / 1124], [train loss 0.37141], [train acc 0.85629]\n",
      "[epoch 8], [iter 900 / 1124], [train loss 0.36979], [train acc 0.85750]\n",
      "[epoch 8], [iter 1000 / 1124], [train loss 0.37156], [train acc 0.85694]\n",
      "[epoch 8], [iter 1100 / 1124], [train loss 0.36989], [train acc 0.85787]\n"
     ]
    },
    {
     "name": "stderr",
     "output_type": "stream",
     "text": [
      "\r",
      " 80%|████████  | 8/10 [2:15:15<33:45, 1012.72s/it]"
     ]
    },
    {
     "name": "stdout",
     "output_type": "stream",
     "text": [
      "------------------------------------------------------------\n",
      "[epoch 8], [val loss 0.37449], [val acc 0.86137]\n",
      "------------------------------------------------------------\n",
      "[epoch 9], [iter 100 / 1124], [train loss 0.37609], [train acc 0.86125]\n",
      "[epoch 9], [iter 200 / 1124], [train loss 0.37375], [train acc 0.86078]\n",
      "[epoch 9], [iter 300 / 1124], [train loss 0.36262], [train acc 0.86250]\n",
      "[epoch 9], [iter 400 / 1124], [train loss 0.35787], [train acc 0.86492]\n",
      "[epoch 9], [iter 500 / 1124], [train loss 0.35107], [train acc 0.86825]\n",
      "[epoch 9], [iter 600 / 1124], [train loss 0.34428], [train acc 0.87036]\n",
      "[epoch 9], [iter 700 / 1124], [train loss 0.34389], [train acc 0.87009]\n",
      "[epoch 9], [iter 800 / 1124], [train loss 0.34360], [train acc 0.87020]\n",
      "[epoch 9], [iter 900 / 1124], [train loss 0.34287], [train acc 0.86993]\n",
      "[epoch 9], [iter 1000 / 1124], [train loss 0.34182], [train acc 0.87016]\n",
      "[epoch 9], [iter 1100 / 1124], [train loss 0.33975], [train acc 0.87043]\n"
     ]
    },
    {
     "name": "stderr",
     "output_type": "stream",
     "text": [
      "\r",
      " 90%|█████████ | 9/10 [2:32:07<16:52, 1012.46s/it]"
     ]
    },
    {
     "name": "stdout",
     "output_type": "stream",
     "text": [
      "------------------------------------------------------------\n",
      "[epoch 9], [val loss 0.37572], [val acc 0.86226]\n",
      "------------------------------------------------------------\n",
      "[epoch 10], [iter 100 / 1124], [train loss 0.34467], [train acc 0.86687]\n",
      "[epoch 10], [iter 200 / 1124], [train loss 0.33372], [train acc 0.87406]\n",
      "[epoch 10], [iter 300 / 1124], [train loss 0.32989], [train acc 0.87417]\n",
      "[epoch 10], [iter 400 / 1124], [train loss 0.32319], [train acc 0.87703]\n",
      "[epoch 10], [iter 500 / 1124], [train loss 0.32259], [train acc 0.87731]\n",
      "[epoch 10], [iter 600 / 1124], [train loss 0.31859], [train acc 0.87833]\n",
      "[epoch 10], [iter 700 / 1124], [train loss 0.31411], [train acc 0.88004]\n",
      "[epoch 10], [iter 800 / 1124], [train loss 0.30803], [train acc 0.88207]\n",
      "[epoch 10], [iter 900 / 1124], [train loss 0.30850], [train acc 0.88149]\n",
      "[epoch 10], [iter 1000 / 1124], [train loss 0.30917], [train acc 0.88097]\n",
      "[epoch 10], [iter 1100 / 1124], [train loss 0.30855], [train acc 0.88134]\n"
     ]
    },
    {
     "name": "stderr",
     "output_type": "stream",
     "text": [
      "\r",
      "100%|██████████| 10/10 [2:48:58<00:00, 1012.03s/it]"
     ]
    },
    {
     "name": "stdout",
     "output_type": "stream",
     "text": [
      "------------------------------------------------------------\n",
      "[epoch 10], [val loss 0.35058], [val acc 0.87565]\n",
      "------------------------------------------------------------\n",
      "*****************************************************\n",
      "best record: [epoch 10], [val loss 0.35058], [val acc 0.87565]\n",
      "*****************************************************\n"
     ]
    },
    {
     "name": "stderr",
     "output_type": "stream",
     "text": [
      "\n"
     ]
    }
   ],
   "source": [
    "epoch_num = 10\n",
    "best_val_acc = 0\n",
    "total_loss_val, total_acc_val = [],[]\n",
    "for epoch in tqdm(range(1, epoch_num+1)):\n",
    "    loss_train, acc_train = train(train_loader, model, criterion, optimizer, epoch)\n",
    "    loss_val, acc_val = validate(val_loader, model, criterion, optimizer, epoch)\n",
    "    total_loss_val.append(loss_val)\n",
    "    total_acc_val.append(acc_val)\n",
    "    if acc_val > best_val_acc:\n",
    "        best_val_acc = acc_val\n",
    "        print('*****************************************************')\n",
    "        print('best record: [epoch %d], [val loss %.5f], [val acc %.5f]' % (epoch, loss_val, acc_val))\n",
    "        print('*****************************************************')"
   ]
  },
  {
   "cell_type": "code",
   "execution_count": 80,
   "metadata": {},
   "outputs": [],
   "source": [
    "def plot_confusion_matrix(cm, classes,\n",
    "                          normalize=False,\n",
    "                          title='Confusion matrix',\n",
    "                          cmap=plt.cm.Blues):\n",
    "    plt.imshow(cm, interpolation='nearest', cmap=cmap)\n",
    "    plt.title(title)\n",
    "    plt.colorbar()\n",
    "    tick_marks = np.arange(len(classes))\n",
    "    plt.xticks(tick_marks, classes, rotation=45)\n",
    "    plt.yticks(tick_marks, classes)\n",
    "\n",
    "    if normalize:\n",
    "        cm = cm.astype('float') / cm.sum(axis=1)[:, np.newaxis]\n",
    "\n",
    "    thresh = cm.max() / 2.\n",
    "    for i, j in itertools.product(range(cm.shape[0]), range(cm.shape[1])):\n",
    "        plt.text(j, i, cm[i, j],\n",
    "                 horizontalalignment=\"center\",\n",
    "                 color=\"white\" if cm[i, j] > thresh else \"black\")\n",
    "\n",
    "    plt.tight_layout()\n",
    "    plt.ylabel('True label')\n",
    "    plt.xlabel('Predicted label')"
   ]
  },
  {
   "cell_type": "code",
   "execution_count": 82,
   "metadata": {},
   "outputs": [],
   "source": [
    "model.eval()\n",
    "y_label = []\n",
    "y_predict = []\n",
    "with torch.no_grad():\n",
    "    for i, data in enumerate(val_loader):\n",
    "        images, labels = data\n",
    "        N = images.size(0)\n",
    "        images = Variable(images).to(device)\n",
    "        outputs = model(images)\n",
    "        prediction = outputs.max(1, keepdim=True)[1]\n",
    "        y_label.extend(labels.cpu().numpy())\n",
    "        y_predict.extend(np.squeeze(prediction.cpu().numpy().T))\n",
    "\n",
    "confusion_mtx = confusion_matrix(y_label, y_predict)\n",
    "plot_labels = ['akiec', 'bcc', 'bkl', 'df', 'nv', 'vasc','mel']"
   ]
  },
  {
   "cell_type": "code",
   "execution_count": 85,
   "metadata": {},
   "outputs": [
    {
     "data": {
      "image/png": "[encoded data removed]",
      "text/plain": [
       "<Figure size 432x288 with 2 Axes>"
      ]
     },
     "metadata": {
      "needs_background": "light"
     },
     "output_type": "display_data"
    }
   ],
   "source": [
    "import itertools\n",
    "plot_confusion_matrix(confusion_mtx, plot_labels)"
   ]
  },
  {
   "cell_type": "code",
   "execution_count": 83,
   "metadata": {},
   "outputs": [
    {
     "name": "stdout",
     "output_type": "stream",
     "text": [
      "              precision    recall  f1-score   support\n",
      "\n",
      "       akiec       0.74      0.47      0.57        30\n",
      "         bcc       0.81      0.86      0.83        35\n",
      "         bkl       0.48      0.83      0.61        88\n",
      "          df       0.57      0.50      0.53         8\n",
      "          nv       0.98      0.93      0.95       883\n",
      "        vasc       0.92      0.85      0.88        13\n",
      "         mel       0.50      0.41      0.45        46\n",
      "\n",
      "    accuracy                           0.88      1103\n",
      "   macro avg       0.71      0.69      0.69      1103\n",
      "weighted avg       0.90      0.88      0.88      1103\n",
      "\n"
     ]
    }
   ],
   "source": [
    "report = classification_report(y_label, y_predict, target_names=plot_labels)\n",
    "print(report)"
   ]
  }
 ],
 "metadata": {
  "kernelspec": {
   "display_name": "Python 3 (ipykernel)",
   "language": "python",
   "name": "python3"
  },
  "language_info": {
   "codemirror_mode": {
    "name": "ipython",
    "version": 3
   },
   "file_extension": ".py",
   "mimetype": "text/x-python",
   "name": "python",
   "nbconvert_exporter": "python",
   "pygments_lexer": "ipython3",
   "version": "3.11.7"
  }
 },
 "nbformat": 4,
 "nbformat_minor": 4
}
