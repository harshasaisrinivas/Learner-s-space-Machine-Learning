{
  "nbformat": 4,
  "nbformat_minor": 0,
  "metadata": {
    "colab": {
      "provenance": [],
      "gpuType": "T4"
    },
    "kernelspec": {
      "name": "python3",
      "display_name": "Python 3"
    },
    "language_info": {
      "name": "python"
    },
    "accelerator": "GPU"
  },
  "cells": [
    {
      "cell_type": "code",
      "source": [
        "import tensorflow as tf\n",
        "from tensorflow.keras.layers import Dense,Flatten\n",
        "from tensorflow.keras import Input"
      ],
      "metadata": {
        "id": "k76R0Y9U4yoK"
      },
      "execution_count": null,
      "outputs": []
    },
    {
      "cell_type": "code",
      "source": [
        "dataset = tf.keras.preprocessing.image_dataset_from_directory(\"/content/drive/MyDrive/homer_bart\",image_size=(64, 64),label_mode = \"binary\")"
      ],
      "metadata": {
        "colab": {
          "base_uri": "https://localhost:8080/"
        },
        "id": "m1bOiC86ZBGi",
        "outputId": "95892027-4a62-4063-a93c-104bdedb84e4"
      },
      "execution_count": null,
      "outputs": [
        {
          "output_type": "stream",
          "name": "stdout",
          "text": [
            "Found 276 files belonging to 2 classes.\n"
          ]
        }
      ]
    },
    {
      "cell_type": "code",
      "source": [
        "train_data = dataset.take(8)\n",
        "test_data = dataset.skip(8)\n",
        "train_data = train_data.cache().shuffle(1000).prefetch(buffer_size=tf.data.AUTOTUNE)\n",
        "test_data = test_data.cache().shuffle(1000).prefetch(buffer_size=tf.data.AUTOTUNE)"
      ],
      "metadata": {
        "id": "kmxm44NxZOQe"
      },
      "execution_count": null,
      "outputs": []
    },
    {
      "cell_type": "code",
      "source": [
        "preprocess = tf.keras.Sequential(\n",
        "    [tf.keras.layers.Rescaling(1./255)] # rescaling factor\n",
        ")\n",
        "model = tf.keras.Sequential()\n",
        "model.add(Input((64,64,3)))\n",
        "model.add(Flatten())\n",
        "model.add(preprocess)\n",
        "model.add(Dense(512, activation=\"relu\"))\n",
        "model.add(Dense(256, activation=\"relu\"))\n",
        "model.add(Dense(128, activation=\"relu\"))\n",
        "model.add(Dense(1, activation=\"sigmoid\"))"
      ],
      "metadata": {
        "id": "T47735IUwRQe"
      },
      "execution_count": null,
      "outputs": []
    },
    {
      "cell_type": "code",
      "source": [
        "model.compile(\n",
        "    optimizer=\"Adam\",\n",
        "    loss=\"BinaryCrossentropy\",\n",
        "    metrics=[\"accuracy\"]\n",
        ")\n"
      ],
      "metadata": {
        "id": "eVv1jpCY_YWK"
      },
      "execution_count": null,
      "outputs": []
    },
    {
      "cell_type": "code",
      "source": [
        "model.fit(train_data,\n",
        "          epochs = 15,\n",
        "          batch_size = 32,\n",
        "          verbose=1,\n",
        "          validation_data = test_data)\n",
        "print(f\"Test Accuracy: {model.evaluate(test_data)[1]}\")"
      ],
      "metadata": {
        "id": "vWGboGiTJP_s",
        "colab": {
          "base_uri": "https://localhost:8080/"
        },
        "outputId": "63a51599-bf42-4bc4-eef6-e8b18a6dea38"
      },
      "execution_count": null,
      "outputs": [
        {
          "output_type": "stream",
          "name": "stdout",
          "text": [
            "Epoch 1/15\n",
            "8/8 [==============================] - 0s 9ms/step - loss: 0.0636 - accuracy: 0.9883 - val_loss: 0.2622 - val_accuracy: 0.9000\n",
            "Epoch 2/15\n",
            "8/8 [==============================] - 0s 6ms/step - loss: 0.1250 - accuracy: 0.9453 - val_loss: 0.0650 - val_accuracy: 0.9500\n",
            "Epoch 3/15\n",
            "8/8 [==============================] - 0s 6ms/step - loss: 0.2070 - accuracy: 0.9023 - val_loss: 0.0611 - val_accuracy: 0.9500\n",
            "Epoch 4/15\n",
            "8/8 [==============================] - 0s 6ms/step - loss: 0.1740 - accuracy: 0.9180 - val_loss: 0.1038 - val_accuracy: 0.9500\n",
            "Epoch 5/15\n",
            "8/8 [==============================] - 0s 6ms/step - loss: 0.1158 - accuracy: 0.9492 - val_loss: 0.2448 - val_accuracy: 0.9000\n",
            "Epoch 6/15\n",
            "8/8 [==============================] - 0s 6ms/step - loss: 0.2093 - accuracy: 0.9062 - val_loss: 0.2532 - val_accuracy: 0.9500\n",
            "Epoch 7/15\n",
            "8/8 [==============================] - 0s 6ms/step - loss: 0.1215 - accuracy: 0.9531 - val_loss: 0.0337 - val_accuracy: 1.0000\n",
            "Epoch 8/15\n",
            "8/8 [==============================] - 0s 6ms/step - loss: 0.0577 - accuracy: 0.9844 - val_loss: 0.0341 - val_accuracy: 1.0000\n",
            "Epoch 9/15\n",
            "8/8 [==============================] - 0s 6ms/step - loss: 0.0296 - accuracy: 1.0000 - val_loss: 0.0514 - val_accuracy: 1.0000\n",
            "Epoch 10/15\n",
            "8/8 [==============================] - 0s 7ms/step - loss: 0.0309 - accuracy: 0.9961 - val_loss: 0.1604 - val_accuracy: 0.9500\n",
            "Epoch 11/15\n",
            "8/8 [==============================] - 0s 6ms/step - loss: 0.1152 - accuracy: 0.9570 - val_loss: 0.0975 - val_accuracy: 0.9500\n",
            "Epoch 12/15\n",
            "8/8 [==============================] - 0s 6ms/step - loss: 0.1395 - accuracy: 0.9375 - val_loss: 0.0638 - val_accuracy: 0.9500\n",
            "Epoch 13/15\n",
            "8/8 [==============================] - 0s 7ms/step - loss: 0.1268 - accuracy: 0.9453 - val_loss: 0.0287 - val_accuracy: 1.0000\n",
            "Epoch 14/15\n",
            "8/8 [==============================] - 0s 8ms/step - loss: 0.1497 - accuracy: 0.9297 - val_loss: 0.2520 - val_accuracy: 0.9000\n",
            "Epoch 15/15\n",
            "8/8 [==============================] - 0s 9ms/step - loss: 0.1166 - accuracy: 0.9570 - val_loss: 0.0903 - val_accuracy: 0.9500\n",
            "1/1 [==============================] - 0s 11ms/step - loss: 0.0903 - accuracy: 0.9500\n",
            "Test Accuracy: 0.949999988079071\n"
          ]
        }
      ]
    }
  ]
}